{
 "cells": [
  {
   "cell_type": "markdown",
   "metadata": {},
   "source": [
    "# Profitable App Profiles for the App Store and Google Play Markets\n",
    "\n",
    "Download datasets here:\n",
    "- [AppleStore.csv](https://dq-content.s3.amazonaws.com/350/AppleStore.csv)\n",
    "- [googleplaystore.csv](https://dq-content.s3.amazonaws.com/350/googleplaystore.csv)\n",
    "\n",
    "Documentation on datasets:\n",
    "- [Apple Store Data](https://www.kaggle.com/ramamet4/app-store-apple-data-set-10k-apps)\n",
    "- [Google Play Store Data](https://www.kaggle.com/lava18/google-play-store-apps)\n",
    "\n"
   ]
  },
  {
   "cell_type": "markdown",
   "metadata": {},
   "source": [
    "## Utility Functions"
   ]
  },
  {
   "cell_type": "markdown",
   "metadata": {},
   "source": [
    "Function **explore_data** prints selected rows for a data set"
   ]
  },
  {
   "cell_type": "code",
   "execution_count": 1,
   "metadata": {},
   "outputs": [],
   "source": [
    "def explore_data(dataset, start, end, rows_and_columns=False):\n",
    "    dataset_slice = dataset[start:end]    \n",
    "    for row in dataset_slice:\n",
    "        print(row)\n",
    "        print('\\n') # adds a new (empty) line after each row\n",
    "\n",
    "    if rows_and_columns:\n",
    "        print('Number of rows:', len(dataset))\n",
    "        print('Number of columns:', len(dataset[0]))"
   ]
  },
  {
   "cell_type": "markdown",
   "metadata": {},
   "source": [
    "Function **get_csv_list** returns a list from a csv object loaded from a file"
   ]
  },
  {
   "cell_type": "code",
   "execution_count": 2,
   "metadata": {},
   "outputs": [],
   "source": [
    "def get_csv_list(filename):\n",
    "    opened_file = open(filename)\n",
    "    from csv import reader\n",
    "    read_file = reader(opened_file)\n",
    "    return list(read_file)"
   ]
  },
  {
   "cell_type": "markdown",
   "metadata": {},
   "source": [
    "## Dataset Descriptions\n",
    "\n",
    "**AppleStore.csv**\n",
    "\n",
    "| Column name | Description |\n",
    "| ----------- | ----------- |\n",
    "| '' | |\n",
    "| 'id' | |\n",
    "| 'track_name' | |\n",
    "| 'size_bytes' | |\n",
    "| 'currency' | |\n",
    "| 'price' | |\n",
    "| 'rating_count_tot' | |\n",
    "| 'rating_count_ver' | |\n",
    "| 'user_rating' | |\n",
    "| 'user_rating_ver' | |\n",
    "| 'ver' | |\n",
    "| 'cont_rating' | |\n",
    "| 'prime_genre' | |\n",
    "| 'sup_devices.num' | |\n",
    "| 'ipadSc_urls.num' | |\n",
    "| 'lang.num' | |\n",
    "| 'vpp_lic' | |\n",
    "\n",
    "**googleplaystore.csv**\n",
    "\n",
    "| Column name | Description |\n",
    "| ----------- | ----------- |\n",
    "| 'App' | |\n",
    "| 'Category' | |\n",
    "| 'Rating' | |\n",
    "| 'Reviews' | |\n",
    "| 'Size' | |\n",
    "| 'Installs' | |\n",
    "| 'Type' | |\n",
    "| 'Price' | |\n",
    "| 'Content Rating' | |\n",
    "| 'Genres' | |\n",
    "| 'Last Updated' | \n",
    "| 'Current Ver' | |\n",
    "| 'Android Ver' | |"
   ]
  },
  {
   "cell_type": "code",
   "execution_count": 106,
   "metadata": {},
   "outputs": [],
   "source": [
    "apple_app_data = get_csv_list('../datasets/AppleStore.csv')"
   ]
  },
  {
   "cell_type": "code",
   "execution_count": 160,
   "metadata": {},
   "outputs": [
    {
     "name": "stdout",
     "output_type": "stream",
     "text": [
      "['', 'id', 'track_name', 'size_bytes', 'currency', 'price', 'rating_count_tot', 'rating_count_ver', 'user_rating', 'user_rating_ver', 'ver', 'cont_rating', 'prime_genre', 'sup_devices.num', 'ipadSc_urls.num', 'lang.num', 'vpp_lic']\n",
      "\n",
      "\n",
      "['1', '281656475', 'PAC-MAN Premium', '100788224', 'USD', '3.99', '21292', '26', '4', '4.5', '6.3.5', '4+', 'Games', '38', '5', '10', '1']\n",
      "\n",
      "\n",
      "['2', '281796108', 'Evernote - stay organized', '158578688', 'USD', '0', '161065', '26', '4', '3.5', '8.2.2', '4+', 'Productivity', '37', '5', '23', '1']\n",
      "\n",
      "\n",
      "['3', '281940292', 'WeatherBug - Local Weather, Radar, Maps, Alerts', '100524032', 'USD', '0', '188583', '2822', '3.5', '4.5', '5.0.0', '4+', 'Weather', '37', '5', '3', '1']\n",
      "\n",
      "\n",
      "['4', '282614216', 'eBay: Best App to Buy, Sell, Save! Online Shopping', '128512000', 'USD', '0', '262241', '649', '4', '4.5', '5.10.0', '12+', 'Shopping', '37', '5', '9', '1']\n",
      "\n",
      "\n",
      "['5', '282935706', 'Bible', '92774400', 'USD', '0', '985920', '5320', '4.5', '5', '7.5.1', '4+', 'Reference', '37', '5', '45', '1']\n",
      "\n",
      "\n",
      "['6', '283619399', 'Shanghai Mahjong', '10485713', 'USD', '0.99', '8253', '5516', '4', '4', '1.8', '4+', 'Games', '47', '5', '1', '1']\n",
      "\n",
      "\n",
      "['7', '283646709', 'PayPal - Send and request money safely', '227795968', 'USD', '0', '119487', '879', '4', '4.5', '6.12.0', '4+', 'Finance', '37', '0', '19', '1']\n",
      "\n",
      "\n",
      "['8', '284035177', 'Pandora - Music & Radio', '130242560', 'USD', '0', '1126879', '3594', '4', '4.5', '8.4.1', '12+', 'Music', '37', '4', '1', '1']\n",
      "\n",
      "\n",
      "['9', '284666222', 'PCalc - The Best Calculator', '49250304', 'USD', '9.99', '1117', '4', '4.5', '5', '3.6.6', '4+', 'Utilities', '37', '5', '1', '1']\n",
      "\n",
      "\n",
      "Number of rows: 7198\n",
      "Number of columns: 17\n"
     ]
    }
   ],
   "source": [
    "explore_data(apple_app_data, 0, 10, True)"
   ]
  },
  {
   "cell_type": "code",
   "execution_count": 180,
   "metadata": {},
   "outputs": [],
   "source": [
    "play_app_data = get_csv_list('../datasets/googleplaystore.csv')"
   ]
  },
  {
   "cell_type": "code",
   "execution_count": 161,
   "metadata": {},
   "outputs": [
    {
     "name": "stdout",
     "output_type": "stream",
     "text": [
      "['App', 'Category', 'Rating', 'Reviews', 'Size', 'Installs', 'Type', 'Price', 'Content Rating', 'Genres', 'Last Updated', 'Current Ver', 'Android Ver']\n",
      "\n",
      "\n",
      "['Photo Editor & Candy Camera & Grid & ScrapBook', 'ART_AND_DESIGN', '4.1', '159', '19M', '10,000+', 'Free', '0', 'Everyone', 'Art & Design', 'January 7, 2018', '1.0.0', '4.0.3 and up']\n",
      "\n",
      "\n",
      "['Coloring book moana', 'ART_AND_DESIGN', '3.9', '967', '14M', '500,000+', 'Free', '0', 'Everyone', 'Art & Design;Pretend Play', 'January 15, 2018', '2.0.0', '4.0.3 and up']\n",
      "\n",
      "\n",
      "['U Launcher Lite – FREE Live Cool Themes, Hide Apps', 'ART_AND_DESIGN', '4.7', '87510', '8.7M', '5,000,000+', 'Free', '0', 'Everyone', 'Art & Design', 'August 1, 2018', '1.2.4', '4.0.3 and up']\n",
      "\n",
      "\n",
      "['Sketch - Draw & Paint', 'ART_AND_DESIGN', '4.5', '215644', '25M', '50,000,000+', 'Free', '0', 'Teen', 'Art & Design', 'June 8, 2018', 'Varies with device', '4.2 and up']\n",
      "\n",
      "\n",
      "['Pixel Draw - Number Art Coloring Book', 'ART_AND_DESIGN', '4.3', '967', '2.8M', '100,000+', 'Free', '0', 'Everyone', 'Art & Design;Creativity', 'June 20, 2018', '1.1', '4.4 and up']\n",
      "\n",
      "\n",
      "['Paper flowers instructions', 'ART_AND_DESIGN', '4.4', '167', '5.6M', '50,000+', 'Free', '0', 'Everyone', 'Art & Design', 'March 26, 2017', '1.0', '2.3 and up']\n",
      "\n",
      "\n",
      "['Smoke Effect Photo Maker - Smoke Editor', 'ART_AND_DESIGN', '3.8', '178', '19M', '50,000+', 'Free', '0', 'Everyone', 'Art & Design', 'April 26, 2018', '1.1', '4.0.3 and up']\n",
      "\n",
      "\n",
      "['Infinite Painter', 'ART_AND_DESIGN', '4.1', '36815', '29M', '1,000,000+', 'Free', '0', 'Everyone', 'Art & Design', 'June 14, 2018', '6.1.61.1', '4.2 and up']\n",
      "\n",
      "\n",
      "['Garden Coloring Book', 'ART_AND_DESIGN', '4.4', '13791', '33M', '1,000,000+', 'Free', '0', 'Everyone', 'Art & Design', 'September 20, 2017', '2.9.2', '3.0 and up']\n",
      "\n",
      "\n",
      "Number of rows: 10841\n",
      "Number of columns: 13\n"
     ]
    }
   ],
   "source": [
    "explore_data(play_app_data, 0, 10, True)"
   ]
  },
  {
   "cell_type": "markdown",
   "metadata": {},
   "source": [
    "## Data Cleanup\n",
    "Print and delete row that has error (missing category value)"
   ]
  },
  {
   "cell_type": "code",
   "execution_count": 13,
   "metadata": {},
   "outputs": [
    {
     "name": "stdout",
     "output_type": "stream",
     "text": [
      "['Xposed Wi-Fi-Pwd', 'PERSONALIZATION', '3.5', '1042', '404k', '100,000+', 'Free', '0', 'Everyone', 'Personalization', 'August 5, 2014', '3.0.0', '4.0.3 and up']\n",
      "['Life Made WI-Fi Touchscreen Photo Frame', '1.9', '19', '3.0M', '1,000+', 'Free', '0', 'Everyone', '', 'February 11, 2018', '1.0.19', '4.0 and up']\n"
     ]
    }
   ],
   "source": [
    "print(play_app_data[10472])\n",
    "print(play_app_data[10473])"
   ]
  },
  {
   "cell_type": "code",
   "execution_count": 110,
   "metadata": {},
   "outputs": [],
   "source": [
    "del play_app_data[10473]"
   ]
  },
  {
   "cell_type": "markdown",
   "metadata": {},
   "source": [
    "---\n",
    "Function **duplicate_apps** finds and returns a dict of duplicate apps in the Play dataset\n",
    "- the dict is keyed by the index of the row in the original dataset\n",
    "- the value of each entry in the dict is the duplicate record"
   ]
  },
  {
   "cell_type": "code",
   "execution_count": 104,
   "metadata": {},
   "outputs": [],
   "source": [
    "def get_duplicate_apps(dataset):\n",
    "    results = {}\n",
    "    duplicates = []\n",
    "    uniques = []\n",
    "    \n",
    "    index = 0\n",
    "    for app in dataset:\n",
    "        name = app[0]\n",
    "        if name in uniques:\n",
    "            duplicates.append(name)\n",
    "            results[index] = app\n",
    "        else:\n",
    "            uniques.append(name)\n",
    "        index += 1\n",
    "        \n",
    "    return results"
   ]
  },
  {
   "cell_type": "code",
   "execution_count": 105,
   "metadata": {},
   "outputs": [
    {
     "name": "stdout",
     "output_type": "stream",
     "text": [
      "Number of duplicate apps:  1181\n"
     ]
    }
   ],
   "source": [
    "duplicates = get_duplicate_apps(play_app_data)\n",
    "print(\"Number of duplicate apps: \", len(duplicates))\n",
    "#print(\"\\n\")\n",
    "#print(\"Examples of duplicate apps: \")\n",
    "#count = 0\n",
    "#for index in duplicates.keys():\n",
    "#    app = duplicates[index]\n",
    "#    print(app)\n",
    "#    count += 1\n",
    "#    if count == 15:\n",
    "#        break"
   ]
  },
  {
   "cell_type": "markdown",
   "metadata": {},
   "source": [
    "---\n",
    "Function **remove_duplicate_apps** removes duplicate apps.  \n",
    "- The instance with the hightest number of reviews is assumed to be the most recent\n",
    "- Keeps the instance of the app with the most reviews"
   ]
  },
  {
   "cell_type": "code",
   "execution_count": 122,
   "metadata": {},
   "outputs": [],
   "source": [
    "def remove_duplicate_apps(dataset):\n",
    "    \n",
    "    most_recent = {}\n",
    "    \n",
    "    for app in dataset[1:]:\n",
    "        name = app[0]\n",
    "        num_reviews = float(app[3])\n",
    "        if name in most_recent:\n",
    "            num_reviews_mr = most_recent[name]\n",
    "            if num_reviews > num_reviews_mr:\n",
    "                most_recent[name] = num_reviews\n",
    "        else:\n",
    "            most_recent[name] = num_reviews\n",
    "            \n",
    "    new_dataset = []\n",
    "    app_names = []\n",
    "    new_dataset.append(dataset[0])\n",
    "    for app in dataset[1:]:\n",
    "        name = app[0]\n",
    "        num_reviews = float(app[3])\n",
    "        if num_reviews == most_recent[name] and name not in app_names:\n",
    "            new_dataset.append(app)\n",
    "            app_names.append(name)\n",
    "        \n",
    "    return new_dataset"
   ]
  },
  {
   "cell_type": "code",
   "execution_count": 154,
   "metadata": {},
   "outputs": [
    {
     "name": "stdout",
     "output_type": "stream",
     "text": [
      "Number in original dataset:  10841\n",
      "# most recent records = 9659\n",
      "# recs=9660\n",
      "Number in clean dataset:  9660\n",
      "Number of duplicate apps:  0\n"
     ]
    }
   ],
   "source": [
    "play_app_data = get_csv_list('../datasets/googleplaystore.csv')\n",
    "del play_app_data[10473]\n",
    "print(\"Number in original dataset: \", len(play_app_data))\n",
    "\n",
    "clean_play_app_data = remove_duplicate_apps(play_app_data)\n",
    "print(\"Number in clean dataset: \", len(clean_play_app_data))\n",
    "\n",
    "# check for duplicates on the clean dataset\n",
    "duplicates = get_duplicate_apps(clean_play_app_data)\n",
    "print(\"Number of duplicate apps: \", len(duplicates))"
   ]
  },
  {
   "cell_type": "markdown",
   "metadata": {},
   "source": [
    "---\n",
    "Function **is_english_string** returns True if string has three or fewer non-ascii characters\n",
    "- non-ascii characters are those with an ordinal value greater than 127"
   ]
  },
  {
   "cell_type": "code",
   "execution_count": 142,
   "metadata": {},
   "outputs": [],
   "source": [
    "def is_english_string(src):\n",
    "    cnt = 0\n",
    "    for c in src:\n",
    "        if ord(c) > 127:\n",
    "            cnt += 1\n",
    "            if cnt > 3:\n",
    "                return False\n",
    "    return True"
   ]
  },
  {
   "cell_type": "code",
   "execution_count": 143,
   "metadata": {},
   "outputs": [
    {
     "name": "stdout",
     "output_type": "stream",
     "text": [
      "True\n",
      "False\n",
      "True\n",
      "True\n"
     ]
    }
   ],
   "source": [
    "print(is_english_string('Instagram!'))\n",
    "print(is_english_string('爱奇艺PPS -《欢乐颂2》电视剧热播'))\n",
    "print(is_english_string('Docs To Go™ Free Office Suite'))\n",
    "print(is_english_string('Instachat 😜'))"
   ]
  },
  {
   "cell_type": "markdown",
   "metadata": {},
   "source": [
    "---\n",
    "Filter non-english apps from dataset using function **is_english_string**"
   ]
  },
  {
   "cell_type": "code",
   "execution_count": 155,
   "metadata": {},
   "outputs": [
    {
     "name": "stdout",
     "output_type": "stream",
     "text": [
      "Number in english Apple dataset:  6184\n",
      "Number in English Play dataset:  9615\n"
     ]
    }
   ],
   "source": [
    "english_apple_app_data = []\n",
    "english_play_app_data = []\n",
    "for app in apple_app_data:\n",
    "    name = app[2]\n",
    "    if is_english_string(name):\n",
    "        english_apple_app_data.append(app)\n",
    "print(\"Number in english Apple dataset: \", len(english_apple_app_data))         \n",
    "\n",
    "for app in clean_play_app_data:\n",
    "    name = app[0]\n",
    "    if is_english_string(name):\n",
    "        english_play_app_data.append(app)\n",
    "print(\"Number in English Play dataset: \", len(english_play_app_data))         "
   ]
  },
  {
   "cell_type": "markdown",
   "metadata": {},
   "source": [
    "---\n",
    "Filter datasets with only free apps\n",
    "- Free apps in the Apple dataset are those with a cost of '0.0' at index 4\n",
    "- Free apps in the Play dataset are those with a cost of '0' at index 7"
   ]
  },
  {
   "cell_type": "code",
   "execution_count": 159,
   "metadata": {},
   "outputs": [
    {
     "name": "stdout",
     "output_type": "stream",
     "text": [
      "Number in free Apple dataset:  3222\n",
      "Number in free Play dataset:  8864\n"
     ]
    }
   ],
   "source": [
    "apple_app_data_final = []\n",
    "play_app_data_final = []\n",
    "for app in english_apple_app_data:\n",
    "    cost = app[5]\n",
    "    if cost == '0':\n",
    "        apple_app_data_final.append(app)\n",
    "print(\"Number in free Apple dataset: \", len(apple_app_data_final))         \n",
    "\n",
    "for app in english_play_app_data:\n",
    "    cost = app[7]\n",
    "    if cost == '0':\n",
    "        play_app_data_final.append(app)\n",
    "print(\"Number in free Play dataset: \", len(play_app_data_final))         "
   ]
  },
  {
   "cell_type": "markdown",
   "metadata": {},
   "source": [
    "---\n",
    "## Data Analysis\n",
    "Build frequency tables to determine the most common genres in each market"
   ]
  },
  {
   "cell_type": "code",
   "execution_count": null,
   "metadata": {},
   "outputs": [],
   "source": [
    "#'rating_count_tot', 'rating_count_ver', 'user_rating', 'user_rating_ver', 'ver', 'cont_rating', 'prime_genre'\n",
    "\n",
    "#'Category', 'Rating', 'Reviews', 'Installs', 'Type', 'Price', 'Content Rating', 'Genres'"
   ]
  },
  {
   "cell_type": "markdown",
   "metadata": {},
   "source": [
    "---\n",
    "Function **freq_table** generates frequency tables that show precentages for the given index\n",
    "\n",
    "Function **display_table** displays the percentages in descending order"
   ]
  },
  {
   "cell_type": "code",
   "execution_count": 175,
   "metadata": {},
   "outputs": [],
   "source": [
    "def freq_table(dataset, index):\n",
    "    table = {}\n",
    "    total = 0\n",
    "    for row in dataset:\n",
    "        total += 1\n",
    "        value = row[index]\n",
    "        if value in table:\n",
    "            table[value] += 1\n",
    "        else:\n",
    "            table[value] = 1\n",
    "            \n",
    "    table_percentages = {}\n",
    "    for value in table:\n",
    "        table_percentages[value] = (table[value] / total) * 100\n",
    "    \n",
    "    return table_percentages\n",
    "\n",
    "def display_table(dataset, index):\n",
    "    table = freq_table(dataset, index)\n",
    "    table_display = []\n",
    "    for value in table:\n",
    "        table_display.append((table[value], value))\n",
    "        \n",
    "    table_sorted = sorted(table_display, reverse = True)\n",
    "    for entry in table_sorted:\n",
    "        print(str(entry[1]) + ':  ' + entry[0])\n",
    "        "
   ]
  },
  {
   "cell_type": "code",
   "execution_count": 169,
   "metadata": {
    "collapsed": true,
    "jupyter": {
     "outputs_hidden": true
    }
   },
   "outputs": [
    {
     "name": "stdout",
     "output_type": "stream",
     "text": [
      "Games:  58.16263190564867\n",
      "Entertainment:  7.883302296710118\n",
      "Photo & Video:  4.9658597144630665\n",
      "Education:  3.662321539416512\n",
      "Social Networking:  3.2898820608317814\n",
      "Shopping:  2.60707635009311\n",
      "Utilities:  2.5139664804469275\n",
      "Sports:  2.1415270018621975\n",
      "Music:  2.0484171322160147\n",
      "Health & Fitness:  2.0173805090006205\n",
      "Productivity:  1.7380509000620732\n",
      "Lifestyle:  1.5828677839851024\n",
      "News:  1.3345747982619491\n",
      "Travel:  1.2414649286157666\n",
      "Finance:  1.1173184357541899\n",
      "Weather:  0.8690254500310366\n",
      "Food & Drink:  0.8069522036002483\n",
      "Reference:  0.5586592178770949\n",
      "Business:  0.5276225946617008\n",
      "Book:  0.4345127250155183\n",
      "Navigation:  0.186219739292365\n",
      "Medical:  0.186219739292365\n",
      "Catalogs:  0.12414649286157665\n"
     ]
    }
   ],
   "source": [
    "display_table(apple_app_data_final, 12)"
   ]
  },
  {
   "cell_type": "code",
   "execution_count": 171,
   "metadata": {
    "collapsed": true,
    "jupyter": {
     "outputs_hidden": true
    }
   },
   "outputs": [
    {
     "name": "stdout",
     "output_type": "stream",
     "text": [
      "FAMILY:  18.907942238267147\n",
      "GAME:  9.724729241877256\n",
      "TOOLS:  8.461191335740072\n",
      "BUSINESS:  4.591606498194946\n",
      "LIFESTYLE:  3.9034296028880866\n",
      "PRODUCTIVITY:  3.892148014440433\n",
      "FINANCE:  3.7003610108303246\n",
      "MEDICAL:  3.531137184115524\n",
      "SPORTS:  3.395758122743682\n",
      "PERSONALIZATION:  3.3167870036101084\n",
      "COMMUNICATION:  3.2378158844765346\n",
      "HEALTH_AND_FITNESS:  3.0798736462093865\n",
      "PHOTOGRAPHY:  2.944494584837545\n",
      "NEWS_AND_MAGAZINES:  2.7978339350180503\n",
      "SOCIAL:  2.6624548736462095\n",
      "TRAVEL_AND_LOCAL:  2.33528880866426\n",
      "SHOPPING:  2.2450361010830324\n",
      "BOOKS_AND_REFERENCE:  2.1435018050541514\n",
      "DATING:  1.861462093862816\n",
      "VIDEO_PLAYERS:  1.7937725631768955\n",
      "MAPS_AND_NAVIGATION:  1.3989169675090252\n",
      "FOOD_AND_DRINK:  1.2409747292418771\n",
      "EDUCATION:  1.1620036101083033\n",
      "ENTERTAINMENT:  0.9589350180505415\n",
      "LIBRARIES_AND_DEMO:  0.9363718411552346\n",
      "AUTO_AND_VEHICLES:  0.9250902527075812\n",
      "HOUSE_AND_HOME:  0.8235559566787004\n",
      "WEATHER:  0.8009927797833934\n",
      "EVENTS:  0.7107400722021661\n",
      "PARENTING:  0.6543321299638989\n",
      "ART_AND_DESIGN:  0.6430505415162455\n",
      "COMICS:  0.6204873646209386\n",
      "BEAUTY:  0.5979241877256317\n"
     ]
    }
   ],
   "source": [
    "display_table(play_app_data_final, 1)"
   ]
  },
  {
   "cell_type": "code",
   "execution_count": 172,
   "metadata": {
    "collapsed": true,
    "jupyter": {
     "outputs_hidden": true
    }
   },
   "outputs": [
    {
     "name": "stdout",
     "output_type": "stream",
     "text": [
      "Tools:  8.449909747292418\n",
      "Entertainment:  6.069494584837545\n",
      "Education:  5.347472924187725\n",
      "Business:  4.591606498194946\n",
      "Productivity:  3.892148014440433\n",
      "Lifestyle:  3.892148014440433\n",
      "Finance:  3.7003610108303246\n",
      "Medical:  3.531137184115524\n",
      "Sports:  3.463447653429603\n",
      "Personalization:  3.3167870036101084\n",
      "Communication:  3.2378158844765346\n",
      "Action:  3.1024368231046933\n",
      "Health & Fitness:  3.0798736462093865\n",
      "Photography:  2.944494584837545\n",
      "News & Magazines:  2.7978339350180503\n",
      "Social:  2.6624548736462095\n",
      "Travel & Local:  2.3240072202166067\n",
      "Shopping:  2.2450361010830324\n",
      "Books & Reference:  2.1435018050541514\n",
      "Simulation:  2.0419675090252705\n",
      "Dating:  1.861462093862816\n",
      "Arcade:  1.8501805054151623\n",
      "Video Players & Editors:  1.7712093862815883\n",
      "Casual:  1.7599277978339352\n",
      "Maps & Navigation:  1.3989169675090252\n",
      "Food & Drink:  1.2409747292418771\n",
      "Puzzle:  1.128158844765343\n",
      "Racing:  0.9927797833935018\n",
      "Role Playing:  0.9363718411552346\n",
      "Libraries & Demo:  0.9363718411552346\n",
      "Auto & Vehicles:  0.9250902527075812\n",
      "Strategy:  0.9138086642599278\n",
      "House & Home:  0.8235559566787004\n",
      "Weather:  0.8009927797833934\n",
      "Events:  0.7107400722021661\n",
      "Adventure:  0.6768953068592057\n",
      "Comics:  0.6092057761732852\n",
      "Beauty:  0.5979241877256317\n",
      "Art & Design:  0.5979241877256317\n",
      "Parenting:  0.4963898916967509\n",
      "Card:  0.45126353790613716\n",
      "Casino:  0.42870036101083037\n",
      "Trivia:  0.41741877256317694\n",
      "Educational;Education:  0.39485559566787\n",
      "Board:  0.3835740072202166\n",
      "Educational:  0.3722924187725632\n",
      "Education;Education:  0.33844765342960287\n",
      "Word:  0.2594765342960289\n",
      "Casual;Pretend Play:  0.236913357400722\n",
      "Music:  0.2030685920577617\n",
      "Racing;Action & Adventure:  0.16922382671480143\n",
      "Puzzle;Brain Games:  0.16922382671480143\n",
      "Entertainment;Music & Video:  0.16922382671480143\n",
      "Casual;Brain Games:  0.13537906137184114\n",
      "Casual;Action & Adventure:  0.13537906137184114\n",
      "Arcade;Action & Adventure:  0.12409747292418773\n",
      "Action;Action & Adventure:  0.10153429602888085\n",
      "Educational;Pretend Play:  0.09025270758122744\n",
      "Simulation;Action & Adventure:  0.078971119133574\n",
      "Parenting;Education:  0.078971119133574\n",
      "Entertainment;Brain Games:  0.078971119133574\n",
      "Board;Brain Games:  0.078971119133574\n",
      "Parenting;Music & Video:  0.06768953068592057\n",
      "Educational;Brain Games:  0.06768953068592057\n",
      "Casual;Creativity:  0.06768953068592057\n",
      "Art & Design;Creativity:  0.06768953068592057\n",
      "Education;Pretend Play:  0.056407942238267145\n",
      "Role Playing;Pretend Play:  0.04512635379061372\n",
      "Education;Creativity:  0.04512635379061372\n",
      "Role Playing;Action & Adventure:  0.033844765342960284\n",
      "Puzzle;Action & Adventure:  0.033844765342960284\n",
      "Entertainment;Creativity:  0.033844765342960284\n",
      "Entertainment;Action & Adventure:  0.033844765342960284\n",
      "Educational;Creativity:  0.033844765342960284\n",
      "Educational;Action & Adventure:  0.033844765342960284\n",
      "Education;Music & Video:  0.033844765342960284\n",
      "Education;Brain Games:  0.033844765342960284\n",
      "Education;Action & Adventure:  0.033844765342960284\n",
      "Adventure;Action & Adventure:  0.033844765342960284\n",
      "Video Players & Editors;Music & Video:  0.02256317689530686\n",
      "Sports;Action & Adventure:  0.02256317689530686\n",
      "Simulation;Pretend Play:  0.02256317689530686\n",
      "Puzzle;Creativity:  0.02256317689530686\n",
      "Music;Music & Video:  0.02256317689530686\n",
      "Entertainment;Pretend Play:  0.02256317689530686\n",
      "Casual;Education:  0.02256317689530686\n",
      "Board;Action & Adventure:  0.02256317689530686\n",
      "Video Players & Editors;Creativity:  0.01128158844765343\n",
      "Trivia;Education:  0.01128158844765343\n",
      "Travel & Local;Action & Adventure:  0.01128158844765343\n",
      "Tools;Education:  0.01128158844765343\n",
      "Strategy;Education:  0.01128158844765343\n",
      "Strategy;Creativity:  0.01128158844765343\n",
      "Strategy;Action & Adventure:  0.01128158844765343\n",
      "Simulation;Education:  0.01128158844765343\n",
      "Role Playing;Brain Games:  0.01128158844765343\n",
      "Racing;Pretend Play:  0.01128158844765343\n",
      "Puzzle;Education:  0.01128158844765343\n",
      "Parenting;Brain Games:  0.01128158844765343\n",
      "Music & Audio;Music & Video:  0.01128158844765343\n",
      "Lifestyle;Pretend Play:  0.01128158844765343\n",
      "Lifestyle;Education:  0.01128158844765343\n",
      "Health & Fitness;Education:  0.01128158844765343\n",
      "Health & Fitness;Action & Adventure:  0.01128158844765343\n",
      "Entertainment;Education:  0.01128158844765343\n",
      "Communication;Creativity:  0.01128158844765343\n",
      "Comics;Creativity:  0.01128158844765343\n",
      "Casual;Music & Video:  0.01128158844765343\n",
      "Card;Action & Adventure:  0.01128158844765343\n",
      "Books & Reference;Education:  0.01128158844765343\n",
      "Art & Design;Pretend Play:  0.01128158844765343\n",
      "Art & Design;Action & Adventure:  0.01128158844765343\n",
      "Arcade;Pretend Play:  0.01128158844765343\n",
      "Adventure;Education:  0.01128158844765343\n"
     ]
    }
   ],
   "source": [
    "display_table(play_app_data_final, 9)"
   ]
  },
  {
   "cell_type": "markdown",
   "metadata": {},
   "source": [
    "---\n",
    "Calculate the average number of user ratings per app genre on the App Store data"
   ]
  },
  {
   "cell_type": "code",
   "execution_count": 177,
   "metadata": {},
   "outputs": [
    {
     "name": "stdout",
     "output_type": "stream",
     "text": [
      "Weather:  52279.892857142855\n",
      "Shopping:  26919.690476190477\n",
      "Reference:  74942.11111111111\n",
      "Finance:  31467.944444444445\n",
      "Music:  57326.530303030304\n",
      "Utilities:  18684.456790123455\n",
      "Travel:  28243.8\n",
      "Social Networking:  71548.34905660378\n",
      "Sports:  23008.898550724636\n",
      "Health & Fitness:  23298.015384615384\n",
      "Games:  22788.6696905016\n",
      "Productivity:  18482.29090909091\n",
      "Food & Drink:  33333.92307692308\n",
      "News:  21248.023255813954\n",
      "Book:  39758.5\n",
      "Photo & Video:  28441.54375\n",
      "Entertainment:  14029.830708661417\n",
      "Business:  7491.117647058823\n",
      "Lifestyle:  16485.764705882353\n",
      "Education:  7003.983050847458\n",
      "Navigation:  86090.33333333333\n",
      "Medical:  612.0\n",
      "Catalogs:  4004.0\n"
     ]
    }
   ],
   "source": [
    "# First approach\n",
    "app_ratings_totals = {}\n",
    "app_genre_totals = {}\n",
    "\n",
    "for app in apple_app_data_final[1:]:\n",
    "    genre = app[12]\n",
    "    rating_count_tot = int(app[6])\n",
    "    \n",
    "    if genre in app_ratings_totals:\n",
    "        app_ratings_totals[genre] += rating_count_tot\n",
    "    else:\n",
    "        app_ratings_totals[genre] = rating_count_tot\n",
    "    \n",
    "    if genre in app_genre_totals:\n",
    "        app_genre_totals[genre] += 1\n",
    "    else:\n",
    "        app_genre_totals[genre] = 1\n",
    "    \n",
    "avg_app_ratings = {}\n",
    "for genre in app_ratings_totals:\n",
    "    avg_app_ratings[genre] = app_ratings_totals[genre] / app_genre_totals[genre]\n",
    "    \n",
    "for genre in avg_app_ratings:\n",
    "    print(genre + ':  ' + str(avg_app_ratings[genre]))\n",
    "    "
   ]
  },
  {
   "cell_type": "code",
   "execution_count": 179,
   "metadata": {},
   "outputs": [
    {
     "name": "stdout",
     "output_type": "stream",
     "text": [
      "Productivity:  18482.29090909091\n",
      "Weather:  52279.892857142855\n",
      "Shopping:  26919.690476190477\n",
      "Reference:  74942.11111111111\n",
      "Finance:  31467.944444444445\n",
      "Music:  57326.530303030304\n",
      "Utilities:  18684.456790123455\n",
      "Travel:  28243.8\n",
      "Social Networking:  71548.34905660378\n",
      "Sports:  23008.898550724636\n",
      "Health & Fitness:  23298.015384615384\n",
      "Games:  22788.6696905016\n",
      "Food & Drink:  33333.92307692308\n",
      "News:  21248.023255813954\n",
      "Book:  39758.5\n",
      "Photo & Video:  28441.54375\n",
      "Entertainment:  14029.830708661417\n",
      "Business:  7491.117647058823\n",
      "Lifestyle:  16485.764705882353\n",
      "Education:  7003.983050847458\n",
      "Navigation:  86090.33333333333\n",
      "Medical:  612.0\n",
      "Catalogs:  4004.0\n"
     ]
    }
   ],
   "source": [
    "# Second approach\n",
    "\n",
    "genres_apple = freq_table(apple_app_data_final, 12)\n",
    "\n",
    "for genre in genres_apple:\n",
    "    total = 0    # sum of number of user ratings\n",
    "    len_genre = 0    # number of apps specific to each genre\n",
    "    \n",
    "    for app2 in apple_app_data_final[1:]:\n",
    "        genre_app = app2[12]\n",
    "        if genre_app == genre:\n",
    "            num_ratings = int(app2[6])\n",
    "            total += num_ratings\n",
    "            len_genre += 1\n",
    "        \n",
    "    avg_num_ratings = total / len_genre\n",
    "    print(genre + ':  ' + str(avg_num_ratings))\n",
    "    "
   ]
  }
 ],
 "metadata": {
  "kernelspec": {
   "display_name": "Python 3",
   "language": "python",
   "name": "python3"
  },
  "language_info": {
   "codemirror_mode": {
    "name": "ipython",
    "version": 3
   },
   "file_extension": ".py",
   "mimetype": "text/x-python",
   "name": "python",
   "nbconvert_exporter": "python",
   "pygments_lexer": "ipython3",
   "version": "3.7.4"
  }
 },
 "nbformat": 4,
 "nbformat_minor": 4
}
