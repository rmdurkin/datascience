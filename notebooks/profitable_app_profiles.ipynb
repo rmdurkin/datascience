{
 "cells": [
  {
   "cell_type": "markdown",
   "metadata": {},
   "source": [
    "# Profitable App Profiles for the App Store and Google Play Markets\n",
    "\n",
    "Download datasets here:\n",
    "- [AppleStore.csv](https://dq-content.s3.amazonaws.com/350/AppleStore.csv)\n",
    "- [googleplaystore.csv](https://dq-content.s3.amazonaws.com/350/googleplaystore.csv)\n",
    "\n",
    "Documentation on datasets:\n",
    "- [Apple Store Data](https://www.kaggle.com/ramamet4/app-store-apple-data-set-10k-apps)\n",
    "- [Google Play Store Data](https://www.kaggle.com/lava18/google-play-store-apps)\n",
    "\n"
   ]
  },
  {
   "cell_type": "markdown",
   "metadata": {},
   "source": [
    "## Utility Functions"
   ]
  },
  {
   "cell_type": "markdown",
   "metadata": {},
   "source": [
    "Function **explore_data** prints selected rows for a data set"
   ]
  },
  {
   "cell_type": "code",
   "execution_count": 1,
   "metadata": {},
   "outputs": [],
   "source": [
    "def explore_data(dataset, start, end, rows_and_columns=False):\n",
    "    dataset_slice = dataset[start:end]    \n",
    "    for row in dataset_slice:\n",
    "        print(row)\n",
    "        print('\\n') # adds a new (empty) line after each row\n",
    "\n",
    "    if rows_and_columns:\n",
    "        print('Number of rows:', len(dataset))\n",
    "        print('Number of columns:', len(dataset[0]))"
   ]
  },
  {
   "cell_type": "markdown",
   "metadata": {},
   "source": [
    "Function **get_csv_list** returns a list from a csv object loaded from a file"
   ]
  },
  {
   "cell_type": "code",
   "execution_count": 2,
   "metadata": {},
   "outputs": [],
   "source": [
    "def get_csv_list(filename):\n",
    "    opened_file = open(filename)\n",
    "    from csv import reader\n",
    "    read_file = reader(opened_file)\n",
    "    return list(read_file)"
   ]
  },
  {
   "cell_type": "markdown",
   "metadata": {},
   "source": [
    "## Dataset Descriptions\n",
    "\n",
    "**AppleStore.csv**\n",
    "\n",
    "| Column name | Description |\n",
    "| ----------- | ----------- |\n",
    "| '' | |\n",
    "| 'id' | |\n",
    "| 'track_name' | |\n",
    "| 'size_bytes' | |\n",
    "| 'currency' | |\n",
    "| 'price' | |\n",
    "| 'rating_count_tot' | |\n",
    "| 'rating_count_ver' | |\n",
    "| 'user_rating' | |\n",
    "| 'user_rating_ver' | |\n",
    "| 'ver' | |\n",
    "| 'cont_rating' | |\n",
    "| 'prime_genre' | |\n",
    "| 'sup_devices.num' | |\n",
    "| 'ipadSc_urls.num' | |\n",
    "| 'lang.num' | |\n",
    "| 'vpp_lic' | |\n",
    "\n",
    "**googleplaystore.csv**\n",
    "\n",
    "| Column name | Description |\n",
    "| ----------- | ----------- |\n",
    "| 'App' | |\n",
    "| 'Category' | |\n",
    "| 'Rating' | |\n",
    "| 'Reviews' | |\n",
    "| 'Size' | |\n",
    "| 'Installs' | |\n",
    "| 'Type' | |\n",
    "| 'Price' | |\n",
    "| 'Content Rating' | |\n",
    "| 'Genres' | |\n",
    "| 'Last Updated' | \n",
    "| 'Current Ver' | |\n",
    "| 'Android Ver' | |"
   ]
  },
  {
   "cell_type": "code",
   "execution_count": 106,
   "metadata": {},
   "outputs": [],
   "source": [
    "apple_app_data = get_csv_list('../datasets/AppleStore.csv')"
   ]
  },
  {
   "cell_type": "code",
   "execution_count": 107,
   "metadata": {
    "collapsed": true,
    "jupyter": {
     "outputs_hidden": true
    }
   },
   "outputs": [
    {
     "name": "stdout",
     "output_type": "stream",
     "text": [
      "['1', '281656475', 'PAC-MAN Premium', '100788224', 'USD', '3.99', '21292', '26', '4', '4.5', '6.3.5', '4+', 'Games', '38', '5', '10', '1']\n",
      "\n",
      "\n",
      "['2', '281796108', 'Evernote - stay organized', '158578688', 'USD', '0', '161065', '26', '4', '3.5', '8.2.2', '4+', 'Productivity', '37', '5', '23', '1']\n",
      "\n",
      "\n",
      "['3', '281940292', 'WeatherBug - Local Weather, Radar, Maps, Alerts', '100524032', 'USD', '0', '188583', '2822', '3.5', '4.5', '5.0.0', '4+', 'Weather', '37', '5', '3', '1']\n",
      "\n",
      "\n",
      "['4', '282614216', 'eBay: Best App to Buy, Sell, Save! Online Shopping', '128512000', 'USD', '0', '262241', '649', '4', '4.5', '5.10.0', '12+', 'Shopping', '37', '5', '9', '1']\n",
      "\n",
      "\n",
      "['5', '282935706', 'Bible', '92774400', 'USD', '0', '985920', '5320', '4.5', '5', '7.5.1', '4+', 'Reference', '37', '5', '45', '1']\n",
      "\n",
      "\n",
      "['6', '283619399', 'Shanghai Mahjong', '10485713', 'USD', '0.99', '8253', '5516', '4', '4', '1.8', '4+', 'Games', '47', '5', '1', '1']\n",
      "\n",
      "\n",
      "['7', '283646709', 'PayPal - Send and request money safely', '227795968', 'USD', '0', '119487', '879', '4', '4.5', '6.12.0', '4+', 'Finance', '37', '0', '19', '1']\n",
      "\n",
      "\n",
      "['8', '284035177', 'Pandora - Music & Radio', '130242560', 'USD', '0', '1126879', '3594', '4', '4.5', '8.4.1', '12+', 'Music', '37', '4', '1', '1']\n",
      "\n",
      "\n",
      "['9', '284666222', 'PCalc - The Best Calculator', '49250304', 'USD', '9.99', '1117', '4', '4.5', '5', '3.6.6', '4+', 'Utilities', '37', '5', '1', '1']\n",
      "\n",
      "\n",
      "Number of rows: 7198\n",
      "Number of columns: 17\n"
     ]
    }
   ],
   "source": [
    "explore_data(apple_app_data, 1, 10, True)"
   ]
  },
  {
   "cell_type": "code",
   "execution_count": 108,
   "metadata": {},
   "outputs": [],
   "source": [
    "play_app_data = get_csv_list('../datasets/googleplaystore.csv')"
   ]
  },
  {
   "cell_type": "code",
   "execution_count": 109,
   "metadata": {
    "collapsed": true,
    "jupyter": {
     "outputs_hidden": true
    }
   },
   "outputs": [
    {
     "name": "stdout",
     "output_type": "stream",
     "text": [
      "['Photo Editor & Candy Camera & Grid & ScrapBook', 'ART_AND_DESIGN', '4.1', '159', '19M', '10,000+', 'Free', '0', 'Everyone', 'Art & Design', 'January 7, 2018', '1.0.0', '4.0.3 and up']\n",
      "\n",
      "\n",
      "['Coloring book moana', 'ART_AND_DESIGN', '3.9', '967', '14M', '500,000+', 'Free', '0', 'Everyone', 'Art & Design;Pretend Play', 'January 15, 2018', '2.0.0', '4.0.3 and up']\n",
      "\n",
      "\n",
      "['U Launcher Lite – FREE Live Cool Themes, Hide Apps', 'ART_AND_DESIGN', '4.7', '87510', '8.7M', '5,000,000+', 'Free', '0', 'Everyone', 'Art & Design', 'August 1, 2018', '1.2.4', '4.0.3 and up']\n",
      "\n",
      "\n",
      "['Sketch - Draw & Paint', 'ART_AND_DESIGN', '4.5', '215644', '25M', '50,000,000+', 'Free', '0', 'Teen', 'Art & Design', 'June 8, 2018', 'Varies with device', '4.2 and up']\n",
      "\n",
      "\n",
      "['Pixel Draw - Number Art Coloring Book', 'ART_AND_DESIGN', '4.3', '967', '2.8M', '100,000+', 'Free', '0', 'Everyone', 'Art & Design;Creativity', 'June 20, 2018', '1.1', '4.4 and up']\n",
      "\n",
      "\n",
      "['Paper flowers instructions', 'ART_AND_DESIGN', '4.4', '167', '5.6M', '50,000+', 'Free', '0', 'Everyone', 'Art & Design', 'March 26, 2017', '1.0', '2.3 and up']\n",
      "\n",
      "\n",
      "['Smoke Effect Photo Maker - Smoke Editor', 'ART_AND_DESIGN', '3.8', '178', '19M', '50,000+', 'Free', '0', 'Everyone', 'Art & Design', 'April 26, 2018', '1.1', '4.0.3 and up']\n",
      "\n",
      "\n",
      "['Infinite Painter', 'ART_AND_DESIGN', '4.1', '36815', '29M', '1,000,000+', 'Free', '0', 'Everyone', 'Art & Design', 'June 14, 2018', '6.1.61.1', '4.2 and up']\n",
      "\n",
      "\n",
      "['Garden Coloring Book', 'ART_AND_DESIGN', '4.4', '13791', '33M', '1,000,000+', 'Free', '0', 'Everyone', 'Art & Design', 'September 20, 2017', '2.9.2', '3.0 and up']\n",
      "\n",
      "\n",
      "Number of rows: 10842\n",
      "Number of columns: 13\n"
     ]
    }
   ],
   "source": [
    "explore_data(play_app_data, 1, 10, True)"
   ]
  },
  {
   "cell_type": "code",
   "execution_count": 8,
   "metadata": {},
   "outputs": [
    {
     "name": "stdout",
     "output_type": "stream",
     "text": [
      "['', 'id', 'track_name', 'size_bytes', 'currency', 'price', 'rating_count_tot', 'rating_count_ver', 'user_rating', 'user_rating_ver', 'ver', 'cont_rating', 'prime_genre', 'sup_devices.num', 'ipadSc_urls.num', 'lang.num', 'vpp_lic']\n",
      "\n",
      "\n"
     ]
    }
   ],
   "source": [
    "explore_data(apple_app_data, 0, 1)"
   ]
  },
  {
   "cell_type": "code",
   "execution_count": 9,
   "metadata": {},
   "outputs": [
    {
     "name": "stdout",
     "output_type": "stream",
     "text": [
      "['App', 'Category', 'Rating', 'Reviews', 'Size', 'Installs', 'Type', 'Price', 'Content Rating', 'Genres', 'Last Updated', 'Current Ver', 'Android Ver']\n",
      "\n",
      "\n"
     ]
    }
   ],
   "source": [
    "explore_data(play_app_data, 0, 1)"
   ]
  },
  {
   "cell_type": "markdown",
   "metadata": {},
   "source": [
    "Print and delete row that has error (missing category value)"
   ]
  },
  {
   "cell_type": "code",
   "execution_count": 13,
   "metadata": {},
   "outputs": [
    {
     "name": "stdout",
     "output_type": "stream",
     "text": [
      "['Xposed Wi-Fi-Pwd', 'PERSONALIZATION', '3.5', '1042', '404k', '100,000+', 'Free', '0', 'Everyone', 'Personalization', 'August 5, 2014', '3.0.0', '4.0.3 and up']\n",
      "['Life Made WI-Fi Touchscreen Photo Frame', '1.9', '19', '3.0M', '1,000+', 'Free', '0', 'Everyone', '', 'February 11, 2018', '1.0.19', '4.0 and up']\n"
     ]
    }
   ],
   "source": [
    "print(play_app_data[10472])\n",
    "print(play_app_data[10473])"
   ]
  },
  {
   "cell_type": "code",
   "execution_count": 110,
   "metadata": {},
   "outputs": [],
   "source": [
    "del play_app_data[10473]"
   ]
  },
  {
   "cell_type": "markdown",
   "metadata": {},
   "source": [
    "Function **duplicate_apps** finds and returns a dict of duplicate apps in the Play dataset\n",
    "- the dict is keyed by the index of the row in the original dataset\n",
    "- the value of each entry in the dict is the duplicate record"
   ]
  },
  {
   "cell_type": "code",
   "execution_count": 104,
   "metadata": {},
   "outputs": [],
   "source": [
    "def get_duplicate_apps(dataset):\n",
    "    results = {}\n",
    "    duplicates = []\n",
    "    uniques = []\n",
    "    \n",
    "    index = 0\n",
    "    for app in dataset:\n",
    "        name = app[0]\n",
    "        if name in uniques:\n",
    "            duplicates.append(name)\n",
    "            results[index] = app\n",
    "        else:\n",
    "            uniques.append(name)\n",
    "        index += 1\n",
    "        \n",
    "    return results"
   ]
  },
  {
   "cell_type": "code",
   "execution_count": 105,
   "metadata": {},
   "outputs": [
    {
     "name": "stdout",
     "output_type": "stream",
     "text": [
      "Number of duplicate apps:  1181\n"
     ]
    }
   ],
   "source": [
    "duplicates = get_duplicate_apps(play_app_data)\n",
    "print(\"Number of duplicate apps: \", len(duplicates))\n",
    "#print(\"\\n\")\n",
    "#print(\"Examples of duplicate apps: \")\n",
    "#count = 0\n",
    "#for index in duplicates.keys():\n",
    "#    app = duplicates[index]\n",
    "#    print(app)\n",
    "#    count += 1\n",
    "#    if count == 15:\n",
    "#        break"
   ]
  },
  {
   "cell_type": "markdown",
   "metadata": {},
   "source": [
    "Function **remove_duplicate_apps** removes duplicate apps.  \n",
    "- The instance with the hightest number of reviews is assumed to be the most recent\n",
    "- Keeps the instance of the app with the most reviews"
   ]
  },
  {
   "cell_type": "code",
   "execution_count": 122,
   "metadata": {},
   "outputs": [],
   "source": [
    "def remove_duplicate_apps(dataset):\n",
    "    \n",
    "    most_recent = {}\n",
    "    \n",
    "    for app in dataset[1:]:\n",
    "        name = app[0]\n",
    "        num_reviews = float(app[3])\n",
    "        if name in most_recent:\n",
    "            num_reviews_mr = most_recent[name]\n",
    "            if num_reviews > num_reviews_mr:\n",
    "                most_recent[name] = num_reviews\n",
    "        else:\n",
    "            most_recent[name] = num_reviews\n",
    "            \n",
    "    new_dataset = []\n",
    "    app_names = []\n",
    "    new_dataset.append(dataset[0])\n",
    "    for app in dataset[1:]:\n",
    "        name = app[0]\n",
    "        num_reviews = float(app[3])\n",
    "        if num_reviews == most_recent[name] and name not in app_names:\n",
    "            new_dataset.append(app)\n",
    "            app_names.append(name)\n",
    "        \n",
    "    return new_dataset"
   ]
  },
  {
   "cell_type": "code",
   "execution_count": 124,
   "metadata": {},
   "outputs": [
    {
     "name": "stdout",
     "output_type": "stream",
     "text": [
      "Number in original dataset:  10841\n",
      "# most recent records = 9659\n",
      "# recs=9660\n",
      "Number in clean dataset:  9660\n",
      "Number of duplicate apps:  0\n"
     ]
    }
   ],
   "source": [
    "play_app_data = get_csv_list('../datasets/googleplaystore.csv')\n",
    "del play_app_data[10473]\n",
    "print(\"Number in original dataset: \", len(play_app_data))\n",
    "\n",
    "new_play_app_data = remove_duplicate_apps(play_app_data)\n",
    "print(\"Number in clean dataset: \", len(new_play_app_data))\n",
    "\n",
    "# check for duplicates on the clean dataset\n",
    "duplicates = get_duplicate_apps(new_play_app_data)\n",
    "print(\"Number of duplicate apps: \", len(duplicates))"
   ]
  }
 ],
 "metadata": {
  "kernelspec": {
   "display_name": "Python 3",
   "language": "python",
   "name": "python3"
  },
  "language_info": {
   "codemirror_mode": {
    "name": "ipython",
    "version": 3
   },
   "file_extension": ".py",
   "mimetype": "text/x-python",
   "name": "python",
   "nbconvert_exporter": "python",
   "pygments_lexer": "ipython3",
   "version": "3.7.4"
  }
 },
 "nbformat": 4,
 "nbformat_minor": 4
}
